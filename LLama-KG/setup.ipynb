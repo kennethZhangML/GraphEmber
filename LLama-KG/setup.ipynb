{
 "cells": [
  {
   "cell_type": "code",
   "execution_count": 1,
   "metadata": {},
   "outputs": [],
   "source": [
    "import os \n",
    "import logging \n",
    "import sys \n",
    "import openai \n",
    "\n",
    "from llama_index import (\n",
    "    KnowledgeGraphIndex, \n",
    "    LLMPredictor, \n",
    "    ServiceContext, \n",
    "    SimpleDirectoryReader\n",
    ")\n",
    "\n",
    "from llama_index.storage.storage_context import StorageContext\n",
    "from llama_index.graph_stores import NebulaGraphStore\n",
    "from llama_index.llms import OpenAI\n",
    "\n",
    "os.environ[\"OPENAI_API_KEY\"] = \"sk-...\"\n",
    "openai.api_key = \"sk-...\"\n",
    "\n",
    "\n",
    "llm = OpenAI(temperature = 0, model = \"text-davinci-002\")\n",
    "service_context = ServiceContext.from_defaults(llm = llm, chunk_size_limit = 512)"
   ]
  },
  {
   "cell_type": "code",
   "execution_count": null,
   "metadata": {},
   "outputs": [],
   "source": [
    "%pip install ipython-ngql nebula3-python"
   ]
  },
  {
   "cell_type": "code",
   "execution_count": 2,
   "metadata": {},
   "outputs": [],
   "source": [
    "os.environ[\"NEBULA_USER\"] = \"root\"\n",
    "os.environ[\"NEBULA_PASSWORD\"] = \"nebula\"  \n",
    "os.environ[\n",
    "    \"NEBULA_ADDRESS\"\n",
    "] = \"127.0.0.1:9669\"  \n",
    "\n",
    "space_name = \"sample_ccp\"\n",
    "edge_types, rel_prop_names = [\"relationship\"], [\n",
    "    \"relationship\"\n",
    "]  \n",
    "\n",
    "tags = [\"entity\"]"
   ]
  },
  {
   "cell_type": "code",
   "execution_count": 3,
   "metadata": {},
   "outputs": [],
   "source": [
    "graph_store = NebulaGraphStore(\n",
    "    space_name = space_name,\n",
    "    edge_types = edge_types,\n",
    "    rel_prop_names = rel_prop_names,\n",
    "    tags = tags,\n",
    ")\n",
    "storage_context = StorageContext.from_defaults(graph_store = graph_store)"
   ]
  },
  {
   "cell_type": "code",
   "execution_count": 4,
   "metadata": {},
   "outputs": [],
   "source": [
    "from llama_index import download_loader\n",
    "\n",
    "WikipediaReader = download_loader(\"WikipediaReader\")\n",
    "loader = WikipediaReader()\n",
    "documents = loader.load_data(\n",
    "    pages = [\"Chinese Communist Party\"], auto_suggest = False\n",
    ")"
   ]
  },
  {
   "cell_type": "code",
   "execution_count": 5,
   "metadata": {},
   "outputs": [],
   "source": [
    "kg_index = KnowledgeGraphIndex.from_documents(\n",
    "    documents,\n",
    "    storage_context = storage_context,\n",
    "    max_triplets_per_chunk = 10,\n",
    "    service_context = service_context,\n",
    "    space_name = space_name,\n",
    "    edge_types = edge_types,\n",
    "    rel_prop_names = rel_prop_names,\n",
    "    tags = tags,\n",
    "    include_embeddings = True,\n",
    ")"
   ]
  },
  {
   "cell_type": "code",
   "execution_count": 6,
   "metadata": {},
   "outputs": [
    {
     "data": {
      "text/plain": [
       "<llama_index.indices.knowledge_graph.base.KnowledgeGraphIndex at 0x10a3399d0>"
      ]
     },
     "execution_count": 6,
     "metadata": {},
     "output_type": "execute_result"
    }
   ],
   "source": [
    "kg_index"
   ]
  },
  {
   "cell_type": "code",
   "execution_count": 7,
   "metadata": {},
   "outputs": [
    {
     "name": "stdout",
     "output_type": "stream",
     "text": [
      "Requirement already satisfied: ipython-ngql in /Users/kennethzhang/opt/miniconda3/lib/python3.9/site-packages (0.7.5)\n",
      "Requirement already satisfied: networkx in /Users/kennethzhang/opt/miniconda3/lib/python3.9/site-packages (3.1)\n",
      "Requirement already satisfied: pyvis in /Users/kennethzhang/opt/miniconda3/lib/python3.9/site-packages (0.3.2)\n",
      "Requirement already satisfied: nebula3-python>=3.4.0 in /Users/kennethzhang/opt/miniconda3/lib/python3.9/site-packages (from ipython-ngql) (3.4.0)\n",
      "Requirement already satisfied: Jinja2 in /Users/kennethzhang/opt/miniconda3/lib/python3.9/site-packages (from ipython-ngql) (3.0.3)\n",
      "Requirement already satisfied: pandas in /Users/kennethzhang/opt/miniconda3/lib/python3.9/site-packages (from ipython-ngql) (1.5.1)\n",
      "Requirement already satisfied: jsonpickle>=1.4.1 in /Users/kennethzhang/opt/miniconda3/lib/python3.9/site-packages (from pyvis) (3.0.2)\n",
      "Requirement already satisfied: ipython>=5.3.0 in /Users/kennethzhang/opt/miniconda3/lib/python3.9/site-packages (from pyvis) (8.4.0)\n",
      "Requirement already satisfied: backcall in /Users/kennethzhang/opt/miniconda3/lib/python3.9/site-packages (from ipython>=5.3.0->pyvis) (0.2.0)\n",
      "Requirement already satisfied: jedi>=0.16 in /Users/kennethzhang/opt/miniconda3/lib/python3.9/site-packages (from ipython>=5.3.0->pyvis) (0.18.1)\n",
      "Requirement already satisfied: setuptools>=18.5 in /Users/kennethzhang/opt/miniconda3/lib/python3.9/site-packages (from ipython>=5.3.0->pyvis) (61.2.0)\n",
      "Requirement already satisfied: appnope in /Users/kennethzhang/opt/miniconda3/lib/python3.9/site-packages (from ipython>=5.3.0->pyvis) (0.1.2)\n",
      "Requirement already satisfied: decorator in /Users/kennethzhang/opt/miniconda3/lib/python3.9/site-packages (from ipython>=5.3.0->pyvis) (5.1.1)\n",
      "Requirement already satisfied: matplotlib-inline in /Users/kennethzhang/opt/miniconda3/lib/python3.9/site-packages (from ipython>=5.3.0->pyvis) (0.1.2)\n",
      "Requirement already satisfied: pygments>=2.4.0 in /Users/kennethzhang/opt/miniconda3/lib/python3.9/site-packages (from ipython>=5.3.0->pyvis) (2.11.2)\n",
      "Requirement already satisfied: pexpect>4.3 in /Users/kennethzhang/opt/miniconda3/lib/python3.9/site-packages (from ipython>=5.3.0->pyvis) (4.8.0)\n",
      "Requirement already satisfied: prompt-toolkit!=3.0.0,!=3.0.1,<3.1.0,>=2.0.0 in /Users/kennethzhang/opt/miniconda3/lib/python3.9/site-packages (from ipython>=5.3.0->pyvis) (3.0.20)\n",
      "Requirement already satisfied: traitlets>=5 in /Users/kennethzhang/opt/miniconda3/lib/python3.9/site-packages (from ipython>=5.3.0->pyvis) (5.1.1)\n",
      "Requirement already satisfied: stack-data in /Users/kennethzhang/opt/miniconda3/lib/python3.9/site-packages (from ipython>=5.3.0->pyvis) (0.2.0)\n",
      "Requirement already satisfied: pickleshare in /Users/kennethzhang/opt/miniconda3/lib/python3.9/site-packages (from ipython>=5.3.0->pyvis) (0.7.5)\n",
      "Requirement already satisfied: parso<0.9.0,>=0.8.0 in /Users/kennethzhang/opt/miniconda3/lib/python3.9/site-packages (from jedi>=0.16->ipython>=5.3.0->pyvis) (0.8.3)\n",
      "Requirement already satisfied: MarkupSafe>=2.0 in /Users/kennethzhang/opt/miniconda3/lib/python3.9/site-packages (from Jinja2->ipython-ngql) (2.1.1)\n",
      "Requirement already satisfied: future>=0.18.0 in /Users/kennethzhang/opt/miniconda3/lib/python3.9/site-packages (from nebula3-python>=3.4.0->ipython-ngql) (0.18.3)\n",
      "Requirement already satisfied: httplib2>=0.20.0 in /Users/kennethzhang/opt/miniconda3/lib/python3.9/site-packages (from nebula3-python>=3.4.0->ipython-ngql) (0.22.0)\n",
      "Requirement already satisfied: six>=1.16.0 in /Users/kennethzhang/opt/miniconda3/lib/python3.9/site-packages (from nebula3-python>=3.4.0->ipython-ngql) (1.16.0)\n",
      "Requirement already satisfied: pytz>=2021.1 in /Users/kennethzhang/opt/miniconda3/lib/python3.9/site-packages (from nebula3-python>=3.4.0->ipython-ngql) (2023.3.post1)\n",
      "Requirement already satisfied: pyparsing!=3.0.0,!=3.0.1,!=3.0.2,!=3.0.3,<4,>=2.4.2 in /Users/kennethzhang/opt/miniconda3/lib/python3.9/site-packages (from httplib2>=0.20.0->nebula3-python>=3.4.0->ipython-ngql) (3.0.4)\n",
      "Requirement already satisfied: ptyprocess>=0.5 in /Users/kennethzhang/opt/miniconda3/lib/python3.9/site-packages (from pexpect>4.3->ipython>=5.3.0->pyvis) (0.7.0)\n",
      "Requirement already satisfied: wcwidth in /Users/kennethzhang/opt/miniconda3/lib/python3.9/site-packages (from prompt-toolkit!=3.0.0,!=3.0.1,<3.1.0,>=2.0.0->ipython>=5.3.0->pyvis) (0.2.5)\n",
      "Requirement already satisfied: python-dateutil>=2.8.1 in /Users/kennethzhang/opt/miniconda3/lib/python3.9/site-packages (from pandas->ipython-ngql) (2.8.2)\n",
      "Requirement already satisfied: numpy>=1.20.3 in /Users/kennethzhang/opt/miniconda3/lib/python3.9/site-packages (from pandas->ipython-ngql) (1.23.4)\n",
      "Requirement already satisfied: asttokens in /Users/kennethzhang/opt/miniconda3/lib/python3.9/site-packages (from stack-data->ipython>=5.3.0->pyvis) (2.0.5)\n",
      "Requirement already satisfied: pure-eval in /Users/kennethzhang/opt/miniconda3/lib/python3.9/site-packages (from stack-data->ipython>=5.3.0->pyvis) (0.2.2)\n",
      "Requirement already satisfied: executing in /Users/kennethzhang/opt/miniconda3/lib/python3.9/site-packages (from stack-data->ipython>=5.3.0->pyvis) (0.8.3)\n",
      "Note: you may need to restart the kernel to use updated packages.\n",
      "Connection Pool Created\n"
     ]
    },
    {
     "data": {
      "text/html": [
       "<div>\n",
       "<style scoped>\n",
       "    .dataframe tbody tr th:only-of-type {\n",
       "        vertical-align: middle;\n",
       "    }\n",
       "\n",
       "    .dataframe tbody tr th {\n",
       "        vertical-align: top;\n",
       "    }\n",
       "\n",
       "    .dataframe thead th {\n",
       "        text-align: right;\n",
       "    }\n",
       "</style>\n",
       "<table border=\"1\" class=\"dataframe\">\n",
       "  <thead>\n",
       "    <tr style=\"text-align: right;\">\n",
       "      <th></th>\n",
       "      <th>Name</th>\n",
       "    </tr>\n",
       "  </thead>\n",
       "  <tbody>\n",
       "    <tr>\n",
       "      <th>0</th>\n",
       "      <td>ccp</td>\n",
       "    </tr>\n",
       "    <tr>\n",
       "      <th>1</th>\n",
       "      <td>ccp_graph</td>\n",
       "    </tr>\n",
       "    <tr>\n",
       "      <th>2</th>\n",
       "      <td>llamaindex</td>\n",
       "    </tr>\n",
       "    <tr>\n",
       "      <th>3</th>\n",
       "      <td>sample_ccp</td>\n",
       "    </tr>\n",
       "  </tbody>\n",
       "</table>\n",
       "</div>"
      ],
      "text/plain": [
       "         Name\n",
       "0         ccp\n",
       "1   ccp_graph\n",
       "2  llamaindex\n",
       "3  sample_ccp"
      ]
     },
     "execution_count": 7,
     "metadata": {},
     "output_type": "execute_result"
    }
   ],
   "source": [
    "%pip install ipython-ngql networkx pyvis\n",
    "%load_ext ngql\n",
    "%ngql --address 127.0.0.1 --port 9669 --user root --password <password>"
   ]
  },
  {
   "cell_type": "code",
   "execution_count": 9,
   "metadata": {},
   "outputs": [
    {
     "data": {
      "text/html": [
       "<div>\n",
       "<style scoped>\n",
       "    .dataframe tbody tr th:only-of-type {\n",
       "        vertical-align: middle;\n",
       "    }\n",
       "\n",
       "    .dataframe tbody tr th {\n",
       "        vertical-align: top;\n",
       "    }\n",
       "\n",
       "    .dataframe thead th {\n",
       "        text-align: right;\n",
       "    }\n",
       "</style>\n",
       "<table border=\"1\" class=\"dataframe\">\n",
       "  <thead>\n",
       "    <tr style=\"text-align: right;\">\n",
       "      <th></th>\n",
       "      <th>e</th>\n",
       "    </tr>\n",
       "  </thead>\n",
       "  <tbody>\n",
       "    <tr>\n",
       "      <th>0</th>\n",
       "      <td>(\"Brown\")-[:relationship@3827542397268656921{r...</td>\n",
       "    </tr>\n",
       "    <tr>\n",
       "      <th>1</th>\n",
       "      <td>(\"CCP\")-[:relationship@-9145588482981122771{re...</td>\n",
       "    </tr>\n",
       "    <tr>\n",
       "      <th>2</th>\n",
       "      <td>(\"CCP\")-[:relationship@-8943842838841622963{re...</td>\n",
       "    </tr>\n",
       "    <tr>\n",
       "      <th>3</th>\n",
       "      <td>(\"CCP\")-[:relationship@-8833295091973254590{re...</td>\n",
       "    </tr>\n",
       "    <tr>\n",
       "      <th>4</th>\n",
       "      <td>(\"CCP\")-[:relationship@-8479060021137937403{re...</td>\n",
       "    </tr>\n",
       "    <tr>\n",
       "      <th>5</th>\n",
       "      <td>(\"CCP\")-[:relationship@-7350560827441132359{re...</td>\n",
       "    </tr>\n",
       "    <tr>\n",
       "      <th>6</th>\n",
       "      <td>(\"CCP\")-[:relationship@-7182510495877438698{re...</td>\n",
       "    </tr>\n",
       "    <tr>\n",
       "      <th>7</th>\n",
       "      <td>(\"CCP\")-[:relationship@-7042246974363447575{re...</td>\n",
       "    </tr>\n",
       "    <tr>\n",
       "      <th>8</th>\n",
       "      <td>(\"CCP\")-[:relationship@-6983053292402816223{re...</td>\n",
       "    </tr>\n",
       "    <tr>\n",
       "      <th>9</th>\n",
       "      <td>(\"CCP\")-[:relationship@-6983053292402816223{re...</td>\n",
       "    </tr>\n",
       "  </tbody>\n",
       "</table>\n",
       "</div>"
      ],
      "text/plain": [
       "                                                   e\n",
       "0  (\"Brown\")-[:relationship@3827542397268656921{r...\n",
       "1  (\"CCP\")-[:relationship@-9145588482981122771{re...\n",
       "2  (\"CCP\")-[:relationship@-8943842838841622963{re...\n",
       "3  (\"CCP\")-[:relationship@-8833295091973254590{re...\n",
       "4  (\"CCP\")-[:relationship@-8479060021137937403{re...\n",
       "5  (\"CCP\")-[:relationship@-7350560827441132359{re...\n",
       "6  (\"CCP\")-[:relationship@-7182510495877438698{re...\n",
       "7  (\"CCP\")-[:relationship@-7042246974363447575{re...\n",
       "8  (\"CCP\")-[:relationship@-6983053292402816223{re...\n",
       "9  (\"CCP\")-[:relationship@-6983053292402816223{re..."
      ]
     },
     "execution_count": 9,
     "metadata": {},
     "output_type": "execute_result"
    }
   ],
   "source": [
    "%ngql USE sample_ccp;\n",
    "%ngql MATCH ()-[e]->() RETURN e LIMIT 10"
   ]
  },
  {
   "cell_type": "code",
   "execution_count": 10,
   "metadata": {},
   "outputs": [
    {
     "data": {
      "text/html": [
       "\n",
       "        <iframe\n",
       "            width=\"100%\"\n",
       "            height=\"500px\"\n",
       "            src=\"nebulagraph.html\"\n",
       "            frameborder=\"0\"\n",
       "            allowfullscreen\n",
       "            \n",
       "        ></iframe>\n",
       "        "
      ],
      "text/plain": [
       "<IPython.lib.display.IFrame at 0x1722b29d0>"
      ]
     },
     "metadata": {},
     "output_type": "display_data"
    },
    {
     "data": {
      "text/plain": [
       "<class 'pyvis.network.Network'> |N|=12 |E|=10"
      ]
     },
     "execution_count": 10,
     "metadata": {},
     "output_type": "execute_result"
    }
   ],
   "source": [
    "%ng_draw"
   ]
  },
  {
   "cell_type": "code",
   "execution_count": 11,
   "metadata": {},
   "outputs": [],
   "source": [
    "from llama_index.query_engine import KnowledgeGraphQueryEngine\n",
    "from IPython.display import Markdown, display\n",
    "from llama_index.storage.storage_context import StorageContext\n",
    "from llama_index.graph_stores import NebulaGraphStore\n",
    "\n",
    "query_engine = KnowledgeGraphQueryEngine(\n",
    "    storage_context = storage_context,\n",
    "    service_context = service_context,\n",
    "    llm = llm,\n",
    "    verbose = True,\n",
    ")"
   ]
  },
  {
   "cell_type": "code",
   "execution_count": 12,
   "metadata": {},
   "outputs": [
    {
     "name": "stdout",
     "output_type": "stream",
     "text": [
      "\u001b[33;1m\u001b[1;3mGraph Store Query:\n",
      "```\n",
      "MATCH (c:`entity`)-[:`relationship`]->(w:`entity`) WHERE c.`entity`.`name` == 'Chinese Civil War'\n",
      "RETURN w.`entity`.`name`;\n",
      "```\n",
      "\u001b[0m\u001b[33;1m\u001b[1;3mGraph Store Response:\n",
      "{'w.entity.name': []}\n",
      "\u001b[0m\u001b[32;1m\u001b[1;3mFinal Response: \n",
      "\n",
      "The Chinese Civil War was a conflict that took place in China between 1927 and 1950. The war was fought between the Chinese Nationalists, led by Chiang Kai-shek, and the Chinese Communists, led by Mao Zedong. Ultimately, the Communists were victorious, and in 1949 they established the People's Republic of China.\n",
      "\u001b[0m"
     ]
    },
    {
     "data": {
      "text/markdown": [
       "<b>\n",
       "\n",
       "The Chinese Civil War was a conflict that took place in China between 1927 and 1950. The war was fought between the Chinese Nationalists, led by Chiang Kai-shek, and the Chinese Communists, led by Mao Zedong. Ultimately, the Communists were victorious, and in 1949 they established the People's Republic of China.</b>"
      ],
      "text/plain": [
       "<IPython.core.display.Markdown object>"
      ]
     },
     "metadata": {},
     "output_type": "display_data"
    }
   ],
   "source": [
    "response = query_engine.query(\n",
    "    \"Tell me about the Chinese Civil War?\",\n",
    ")\n",
    "display(Markdown(f\"<b>{response}</b>\"))"
   ]
  },
  {
   "cell_type": "code",
   "execution_count": 18,
   "metadata": {},
   "outputs": [
    {
     "data": {
      "text/html": [
       "<div>\n",
       "<style scoped>\n",
       "    .dataframe tbody tr th:only-of-type {\n",
       "        vertical-align: middle;\n",
       "    }\n",
       "\n",
       "    .dataframe tbody tr th {\n",
       "        vertical-align: top;\n",
       "    }\n",
       "\n",
       "    .dataframe thead th {\n",
       "        text-align: right;\n",
       "    }\n",
       "</style>\n",
       "<table border=\"1\" class=\"dataframe\">\n",
       "  <thead>\n",
       "    <tr style=\"text-align: right;\">\n",
       "      <th></th>\n",
       "      <th>p</th>\n",
       "    </tr>\n",
       "  </thead>\n",
       "  <tbody>\n",
       "    <tr>\n",
       "      <th>0</th>\n",
       "      <td>(\"Chinese Civil War\" :entity{name: \"Chinese Ci...</td>\n",
       "    </tr>\n",
       "    <tr>\n",
       "      <th>1</th>\n",
       "      <td>(\"Chinese Civil War\" :entity{name: \"Chinese Ci...</td>\n",
       "    </tr>\n",
       "    <tr>\n",
       "      <th>2</th>\n",
       "      <td>(\"Chinese Civil War\" :entity{name: \"Chinese Ci...</td>\n",
       "    </tr>\n",
       "    <tr>\n",
       "      <th>3</th>\n",
       "      <td>(\"Chinese Civil War\" :entity{name: \"Chinese Ci...</td>\n",
       "    </tr>\n",
       "    <tr>\n",
       "      <th>4</th>\n",
       "      <td>(\"Chinese Civil War\" :entity{name: \"Chinese Ci...</td>\n",
       "    </tr>\n",
       "    <tr>\n",
       "      <th>...</th>\n",
       "      <td>...</td>\n",
       "    </tr>\n",
       "    <tr>\n",
       "      <th>200</th>\n",
       "      <td>(\"Shuanggui\" :entity{name: \"Shuanggui\"})-[:rel...</td>\n",
       "    </tr>\n",
       "    <tr>\n",
       "      <th>201</th>\n",
       "      <td>(\"Shuanggui\" :entity{name: \"Shuanggui\"})-[:rel...</td>\n",
       "    </tr>\n",
       "    <tr>\n",
       "      <th>202</th>\n",
       "      <td>(\"Shuanggui\" :entity{name: \"Shuanggui\"})-[:rel...</td>\n",
       "    </tr>\n",
       "    <tr>\n",
       "      <th>203</th>\n",
       "      <td>(\"Shuanggui\" :entity{name: \"Shuanggui\"})-[:rel...</td>\n",
       "    </tr>\n",
       "    <tr>\n",
       "      <th>204</th>\n",
       "      <td>(\"Shuanggui\" :entity{name: \"Shuanggui\"})-[:rel...</td>\n",
       "    </tr>\n",
       "  </tbody>\n",
       "</table>\n",
       "<p>205 rows × 1 columns</p>\n",
       "</div>"
      ],
      "text/plain": [
       "                                                     p\n",
       "0    (\"Chinese Civil War\" :entity{name: \"Chinese Ci...\n",
       "1    (\"Chinese Civil War\" :entity{name: \"Chinese Ci...\n",
       "2    (\"Chinese Civil War\" :entity{name: \"Chinese Ci...\n",
       "3    (\"Chinese Civil War\" :entity{name: \"Chinese Ci...\n",
       "4    (\"Chinese Civil War\" :entity{name: \"Chinese Ci...\n",
       "..                                                 ...\n",
       "200  (\"Shuanggui\" :entity{name: \"Shuanggui\"})-[:rel...\n",
       "201  (\"Shuanggui\" :entity{name: \"Shuanggui\"})-[:rel...\n",
       "202  (\"Shuanggui\" :entity{name: \"Shuanggui\"})-[:rel...\n",
       "203  (\"Shuanggui\" :entity{name: \"Shuanggui\"})-[:rel...\n",
       "204  (\"Shuanggui\" :entity{name: \"Shuanggui\"})-[:rel...\n",
       "\n",
       "[205 rows x 1 columns]"
      ]
     },
     "execution_count": 18,
     "metadata": {},
     "output_type": "execute_result"
    }
   ],
   "source": [
    "%ngql USE llamaindex; MATCH p=(n)-[e:relationship*1..2]-() WHERE id(n) in ['Mao', 'Chinese Civil War', 'Shuanggui'] RETURN p"
   ]
  },
  {
   "cell_type": "code",
   "execution_count": 19,
   "metadata": {},
   "outputs": [
    {
     "data": {
      "text/html": [
       "\n",
       "        <iframe\n",
       "            width=\"100%\"\n",
       "            height=\"500px\"\n",
       "            src=\"nebulagraph.html\"\n",
       "            frameborder=\"0\"\n",
       "            allowfullscreen\n",
       "            \n",
       "        ></iframe>\n",
       "        "
      ],
      "text/plain": [
       "<IPython.lib.display.IFrame at 0x2955c5880>"
      ]
     },
     "metadata": {},
     "output_type": "display_data"
    },
    {
     "data": {
      "text/plain": [
       "<class 'pyvis.network.Network'> |N|=110 |E|=399"
      ]
     },
     "execution_count": 19,
     "metadata": {},
     "output_type": "execute_result"
    }
   ],
   "source": [
    "%ng_draw"
   ]
  },
  {
   "cell_type": "code",
   "execution_count": null,
   "metadata": {},
   "outputs": [],
   "source": []
  }
 ],
 "metadata": {
  "kernelspec": {
   "display_name": "base",
   "language": "python",
   "name": "python3"
  },
  "language_info": {
   "codemirror_mode": {
    "name": "ipython",
    "version": 3
   },
   "file_extension": ".py",
   "mimetype": "text/x-python",
   "name": "python",
   "nbconvert_exporter": "python",
   "pygments_lexer": "ipython3",
   "version": "3.9.12"
  },
  "orig_nbformat": 4
 },
 "nbformat": 4,
 "nbformat_minor": 2
}
